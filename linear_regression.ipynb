{
  "nbformat": 4,
  "nbformat_minor": 0,
  "metadata": {
    "kernelspec": {
      "display_name": "Python 3",
      "language": "python",
      "name": "python3"
    },
    "language_info": {
      "codemirror_mode": {
        "name": "ipython",
        "version": 3
      },
      "file_extension": ".py",
      "mimetype": "text/x-python",
      "name": "python",
      "nbconvert_exporter": "python",
      "pygments_lexer": "ipython3",
      "version": "3.7.4"
    },
    "colab": {
      "name": "linear-regression.ipynb",
      "provenance": []
    }
  },
  "cells": [
    {
      "cell_type": "code",
      "metadata": {
        "id": "58zi7qZ8Uu5W"
      },
      "source": [
        "import pandas as pd\n",
        "import numpy as np\n",
        "import matplotlib.pyplot as plt\n",
        "import seaborn as sns"
      ],
      "execution_count": 1,
      "outputs": []
    },
    {
      "cell_type": "code",
      "metadata": {
        "id": "hit_YocVUu5h"
      },
      "source": [
        "combined_data = pd.read_csv('cleaned_data.csv')"
      ],
      "execution_count": 2,
      "outputs": []
    },
    {
      "cell_type": "code",
      "metadata": {
        "colab": {
          "base_uri": "https://localhost:8080/",
          "height": 195
        },
        "id": "9rAebElJUu5i",
        "outputId": "c6752873-911b-42ae-e429-01de82d9684f"
      },
      "source": [
        "combined_data.head()"
      ],
      "execution_count": 3,
      "outputs": [
        {
          "output_type": "execute_result",
          "data": {
            "text/html": [
              "<div>\n",
              "<style scoped>\n",
              "    .dataframe tbody tr th:only-of-type {\n",
              "        vertical-align: middle;\n",
              "    }\n",
              "\n",
              "    .dataframe tbody tr th {\n",
              "        vertical-align: top;\n",
              "    }\n",
              "\n",
              "    .dataframe thead th {\n",
              "        text-align: right;\n",
              "    }\n",
              "</style>\n",
              "<table border=\"1\" class=\"dataframe\">\n",
              "  <thead>\n",
              "    <tr style=\"text-align: right;\">\n",
              "      <th></th>\n",
              "      <th>T</th>\n",
              "      <th>TM</th>\n",
              "      <th>Tm</th>\n",
              "      <th>H</th>\n",
              "      <th>PP</th>\n",
              "      <th>VV</th>\n",
              "      <th>V</th>\n",
              "      <th>VM</th>\n",
              "      <th>PM_2_5</th>\n",
              "    </tr>\n",
              "  </thead>\n",
              "  <tbody>\n",
              "    <tr>\n",
              "      <th>0</th>\n",
              "      <td>23.4</td>\n",
              "      <td>30.3</td>\n",
              "      <td>19.0</td>\n",
              "      <td>59.0</td>\n",
              "      <td>0.0</td>\n",
              "      <td>6.3</td>\n",
              "      <td>4.3</td>\n",
              "      <td>5.4</td>\n",
              "      <td>284.795833</td>\n",
              "    </tr>\n",
              "    <tr>\n",
              "      <th>1</th>\n",
              "      <td>22.4</td>\n",
              "      <td>30.3</td>\n",
              "      <td>16.9</td>\n",
              "      <td>57.0</td>\n",
              "      <td>0.0</td>\n",
              "      <td>6.9</td>\n",
              "      <td>3.3</td>\n",
              "      <td>7.6</td>\n",
              "      <td>239.695455</td>\n",
              "    </tr>\n",
              "    <tr>\n",
              "      <th>2</th>\n",
              "      <td>24.0</td>\n",
              "      <td>31.8</td>\n",
              "      <td>16.9</td>\n",
              "      <td>51.0</td>\n",
              "      <td>0.0</td>\n",
              "      <td>6.9</td>\n",
              "      <td>2.8</td>\n",
              "      <td>5.4</td>\n",
              "      <td>182.187500</td>\n",
              "    </tr>\n",
              "    <tr>\n",
              "      <th>3</th>\n",
              "      <td>22.8</td>\n",
              "      <td>30.2</td>\n",
              "      <td>17.6</td>\n",
              "      <td>55.0</td>\n",
              "      <td>0.0</td>\n",
              "      <td>7.7</td>\n",
              "      <td>3.7</td>\n",
              "      <td>7.6</td>\n",
              "      <td>264.064286</td>\n",
              "    </tr>\n",
              "    <tr>\n",
              "      <th>4</th>\n",
              "      <td>23.1</td>\n",
              "      <td>30.6</td>\n",
              "      <td>17.4</td>\n",
              "      <td>46.0</td>\n",
              "      <td>0.0</td>\n",
              "      <td>6.9</td>\n",
              "      <td>3.3</td>\n",
              "      <td>5.4</td>\n",
              "      <td>223.208333</td>\n",
              "    </tr>\n",
              "  </tbody>\n",
              "</table>\n",
              "</div>"
            ],
            "text/plain": [
              "      T    TM    Tm     H   PP   VV    V   VM      PM_2_5\n",
              "0  23.4  30.3  19.0  59.0  0.0  6.3  4.3  5.4  284.795833\n",
              "1  22.4  30.3  16.9  57.0  0.0  6.9  3.3  7.6  239.695455\n",
              "2  24.0  31.8  16.9  51.0  0.0  6.9  2.8  5.4  182.187500\n",
              "3  22.8  30.2  17.6  55.0  0.0  7.7  3.7  7.6  264.064286\n",
              "4  23.1  30.6  17.4  46.0  0.0  6.9  3.3  5.4  223.208333"
            ]
          },
          "metadata": {
            "tags": []
          },
          "execution_count": 3
        }
      ]
    },
    {
      "cell_type": "code",
      "metadata": {
        "id": "60BqBnBSUu5j"
      },
      "source": [
        "X = combined_data.iloc[:, :-1]\n",
        "y = combined_data.iloc[:, -1]"
      ],
      "execution_count": 4,
      "outputs": []
    },
    {
      "cell_type": "code",
      "metadata": {
        "id": "SeK-oGSwUu5k"
      },
      "source": [
        "from sklearn.model_selection import train_test_split\n",
        "X_train, X_test, y_train, y_test = train_test_split(X, y, test_size=0.3, random_state=43)"
      ],
      "execution_count": 5,
      "outputs": []
    },
    {
      "cell_type": "code",
      "metadata": {
        "colab": {
          "base_uri": "https://localhost:8080/"
        },
        "id": "j1MxwCTtUu5k",
        "outputId": "8d9051f6-a070-4912-dd14-1d05467621d3"
      },
      "source": [
        "from sklearn.linear_model import LinearRegression\n",
        "lin_reg = LinearRegression()\n",
        "lin_reg.fit(X_train, y_train)"
      ],
      "execution_count": 6,
      "outputs": [
        {
          "output_type": "execute_result",
          "data": {
            "text/plain": [
              "LinearRegression(copy_X=True, fit_intercept=True, n_jobs=None, normalize=False)"
            ]
          },
          "metadata": {
            "tags": []
          },
          "execution_count": 6
        }
      ]
    },
    {
      "cell_type": "code",
      "metadata": {
        "colab": {
          "base_uri": "https://localhost:8080/",
          "height": 35
        },
        "id": "_SgCyOnlUu5l",
        "outputId": "9f3d9428-1d70-468f-ce4e-93dd884d8f27"
      },
      "source": [
        "f'Coefficient of determination R^2 on train set {lin_reg.score(X_train, y_train)}'\n",
        "# must be close to 1, 1 is perfect fit"
      ],
      "execution_count": 7,
      "outputs": [
        {
          "output_type": "execute_result",
          "data": {
            "application/vnd.google.colaboratory.intrinsic+json": {
              "type": "string"
            },
            "text/plain": [
              "'Coefficient of determination R^2 on train set 0.40130070313506305'"
            ]
          },
          "metadata": {
            "tags": []
          },
          "execution_count": 7
        }
      ]
    },
    {
      "cell_type": "code",
      "metadata": {
        "colab": {
          "base_uri": "https://localhost:8080/",
          "height": 35
        },
        "id": "NI6RtYwWUu5m",
        "outputId": "44feaefd-c3fc-4014-a992-5570fd0af7aa"
      },
      "source": [
        "f'Coefficient of determination R^2 on test set {lin_reg.score(X_test, y_test)}'"
      ],
      "execution_count": 8,
      "outputs": [
        {
          "output_type": "execute_result",
          "data": {
            "application/vnd.google.colaboratory.intrinsic+json": {
              "type": "string"
            },
            "text/plain": [
              "'Coefficient of determination R^2 on test set 0.3202915645310601'"
            ]
          },
          "metadata": {
            "tags": []
          },
          "execution_count": 8
        }
      ]
    },
    {
      "cell_type": "code",
      "metadata": {
        "colab": {
          "base_uri": "https://localhost:8080/"
        },
        "id": "49uAJBWUUu5m",
        "outputId": "b868f47f-8ba7-4003-bfcc-fa1d701a58eb"
      },
      "source": [
        "lin_reg.coef_"
      ],
      "execution_count": 9,
      "outputs": [
        {
          "output_type": "execute_result",
          "data": {
            "text/plain": [
              "array([-15.84230876,  -0.72209799,  -2.51152075,  -1.38818232,\n",
              "        -0.84155463,  -9.35371295, -11.32087403,   0.5496871 ])"
            ]
          },
          "metadata": {
            "tags": []
          },
          "execution_count": 9
        }
      ]
    },
    {
      "cell_type": "code",
      "metadata": {
        "colab": {
          "base_uri": "https://localhost:8080/"
        },
        "id": "PLJsbTf-Uu5n",
        "outputId": "97bfe2c9-86b3-44f4-ca8a-fea5561c0c36"
      },
      "source": [
        "lin_reg.intercept_"
      ],
      "execution_count": 10,
      "outputs": [
        {
          "output_type": "execute_result",
          "data": {
            "text/plain": [
              "763.0768032875105"
            ]
          },
          "metadata": {
            "tags": []
          },
          "execution_count": 10
        }
      ]
    },
    {
      "cell_type": "code",
      "metadata": {
        "id": "aa2WrVJoUu5n"
      },
      "source": [
        "from sklearn.model_selection import cross_val_score\n",
        "score = cross_val_score(lin_reg, X, y, cv = 3)"
      ],
      "execution_count": 11,
      "outputs": []
    },
    {
      "cell_type": "code",
      "metadata": {
        "colab": {
          "base_uri": "https://localhost:8080/"
        },
        "id": "eqBjSPmoUu5o",
        "outputId": "b9a1439d-52e9-4bc9-bbe1-01d828005505"
      },
      "source": [
        "score.mean()"
      ],
      "execution_count": 12,
      "outputs": [
        {
          "output_type": "execute_result",
          "data": {
            "text/plain": [
              "0.2838598029575892"
            ]
          },
          "metadata": {
            "tags": []
          },
          "execution_count": 12
        }
      ]
    },
    {
      "cell_type": "code",
      "metadata": {
        "colab": {
          "base_uri": "https://localhost:8080/",
          "height": 284
        },
        "id": "gVsJjl5tUu5o",
        "outputId": "6f58a30c-4deb-42e8-b00c-d41806b1969f"
      },
      "source": [
        "pd.DataFrame(lin_reg.coef_, X.columns, columns=['Coeff'])"
      ],
      "execution_count": 13,
      "outputs": [
        {
          "output_type": "execute_result",
          "data": {
            "text/html": [
              "<div>\n",
              "<style scoped>\n",
              "    .dataframe tbody tr th:only-of-type {\n",
              "        vertical-align: middle;\n",
              "    }\n",
              "\n",
              "    .dataframe tbody tr th {\n",
              "        vertical-align: top;\n",
              "    }\n",
              "\n",
              "    .dataframe thead th {\n",
              "        text-align: right;\n",
              "    }\n",
              "</style>\n",
              "<table border=\"1\" class=\"dataframe\">\n",
              "  <thead>\n",
              "    <tr style=\"text-align: right;\">\n",
              "      <th></th>\n",
              "      <th>Coeff</th>\n",
              "    </tr>\n",
              "  </thead>\n",
              "  <tbody>\n",
              "    <tr>\n",
              "      <th>T</th>\n",
              "      <td>-15.842309</td>\n",
              "    </tr>\n",
              "    <tr>\n",
              "      <th>TM</th>\n",
              "      <td>-0.722098</td>\n",
              "    </tr>\n",
              "    <tr>\n",
              "      <th>Tm</th>\n",
              "      <td>-2.511521</td>\n",
              "    </tr>\n",
              "    <tr>\n",
              "      <th>H</th>\n",
              "      <td>-1.388182</td>\n",
              "    </tr>\n",
              "    <tr>\n",
              "      <th>PP</th>\n",
              "      <td>-0.841555</td>\n",
              "    </tr>\n",
              "    <tr>\n",
              "      <th>VV</th>\n",
              "      <td>-9.353713</td>\n",
              "    </tr>\n",
              "    <tr>\n",
              "      <th>V</th>\n",
              "      <td>-11.320874</td>\n",
              "    </tr>\n",
              "    <tr>\n",
              "      <th>VM</th>\n",
              "      <td>0.549687</td>\n",
              "    </tr>\n",
              "  </tbody>\n",
              "</table>\n",
              "</div>"
            ],
            "text/plain": [
              "        Coeff\n",
              "T  -15.842309\n",
              "TM  -0.722098\n",
              "Tm  -2.511521\n",
              "H   -1.388182\n",
              "PP  -0.841555\n",
              "VV  -9.353713\n",
              "V  -11.320874\n",
              "VM   0.549687"
            ]
          },
          "metadata": {
            "tags": []
          },
          "execution_count": 13
        }
      ]
    },
    {
      "cell_type": "code",
      "metadata": {
        "colab": {
          "base_uri": "https://localhost:8080/"
        },
        "id": "dbVkq4MhUu5p",
        "outputId": "3acf4149-630b-484f-abbd-a386df50e1b9"
      },
      "source": [
        "c = 0\n",
        "for val in lin_reg.coef_:\n",
        "    effect = 'increase' if val>0 else 'decrease'\n",
        "    print(f'Holding all other features fixed a 1 unit increase in {X.columns[c]} is associated with {effect} of val in AQI PM2.5')\n",
        "    c = c+1"
      ],
      "execution_count": 14,
      "outputs": [
        {
          "output_type": "stream",
          "text": [
            "Holding all other features fixed a 1 unit increase in T is associated with decrease of val in AQI PM2.5\n",
            "Holding all other features fixed a 1 unit increase in TM is associated with decrease of val in AQI PM2.5\n",
            "Holding all other features fixed a 1 unit increase in Tm is associated with decrease of val in AQI PM2.5\n",
            "Holding all other features fixed a 1 unit increase in H is associated with decrease of val in AQI PM2.5\n",
            "Holding all other features fixed a 1 unit increase in PP is associated with decrease of val in AQI PM2.5\n",
            "Holding all other features fixed a 1 unit increase in VV is associated with decrease of val in AQI PM2.5\n",
            "Holding all other features fixed a 1 unit increase in V is associated with decrease of val in AQI PM2.5\n",
            "Holding all other features fixed a 1 unit increase in VM is associated with increase of val in AQI PM2.5\n"
          ],
          "name": "stdout"
        }
      ]
    },
    {
      "cell_type": "code",
      "metadata": {
        "id": "grFJsZGkUu5p"
      },
      "source": [
        "pred = lin_reg.predict(X_test)"
      ],
      "execution_count": 15,
      "outputs": []
    },
    {
      "cell_type": "code",
      "metadata": {
        "colab": {
          "base_uri": "https://localhost:8080/",
          "height": 350
        },
        "id": "ku7_flMXUu5q",
        "outputId": "a102f30e-fc18-4425-ceb6-b4f472e14cc5"
      },
      "source": [
        "sns.distplot(y_test - pred)"
      ],
      "execution_count": 16,
      "outputs": [
        {
          "output_type": "stream",
          "text": [
            "/usr/local/lib/python3.6/dist-packages/seaborn/distributions.py:2557: FutureWarning: `distplot` is a deprecated function and will be removed in a future version. Please adapt your code to use either `displot` (a figure-level function with similar flexibility) or `histplot` (an axes-level function for histograms).\n",
            "  warnings.warn(msg, FutureWarning)\n"
          ],
          "name": "stderr"
        },
        {
          "output_type": "execute_result",
          "data": {
            "text/plain": [
              "<matplotlib.axes._subplots.AxesSubplot at 0x7fefe79aae48>"
            ]
          },
          "metadata": {
            "tags": []
          },
          "execution_count": 16
        },
        {
          "output_type": "display_data",
          "data": {
            "image/png": "[encoded data removed]",
            "text/plain": [
              "<Figure size 432x288 with 1 Axes>"
            ]
          },
          "metadata": {
            "tags": [],
            "needs_background": "light"
          }
        }
      ]
    },
    {
      "cell_type": "code",
      "metadata": {
        "colab": {
          "base_uri": "https://localhost:8080/"
        },
        "id": "F6aGdszJUu5q",
        "outputId": "f86f81c4-69b5-4758-dce1-5b309b7539dd"
      },
      "source": [
        "from sklearn import metrics\n",
        "print(f\"Mean Abs Error: {metrics.mean_absolute_error(y_test, pred)}\")\n",
        "print(f\"Mean Sq Error: {metrics.mean_squared_error(y_test, pred)}\")\n",
        "print(f\"Root Mean Error: {np.sqrt(metrics.mean_squared_error(y_test, pred))}\")"
      ],
      "execution_count": 17,
      "outputs": [
        {
          "output_type": "stream",
          "text": [
            "Mean Abs Error: 55.12183806894885\n",
            "Mean Sq Error: 5157.172338744652\n",
            "Root Mean Error: 71.81345513721402\n"
          ],
          "name": "stdout"
        }
      ]
    },
    {
      "cell_type": "code",
      "metadata": {
        "id": "_eVeLiiNUu5r"
      },
      "source": [
        "import pickle\n",
        "pickle.dump(lin_reg, open('linreg.pkl', 'wb'))"
      ],
      "execution_count": 18,
      "outputs": []
    },
    {
      "cell_type": "code",
      "metadata": {
        "id": "vxaiPe3NUu5r"
      },
      "source": [
        ""
      ],
      "execution_count": 18,
      "outputs": []
    }
  ]
}