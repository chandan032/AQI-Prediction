{
  "nbformat": 4,
  "nbformat_minor": 0,
  "metadata": {
    "kernelspec": {
      "display_name": "Python 3",
      "language": "python",
      "name": "python3"
    },
    "language_info": {
      "codemirror_mode": {
        "name": "ipython",
        "version": 3
      },
      "file_extension": ".py",
      "mimetype": "text/x-python",
      "name": "python",
      "nbconvert_exporter": "python",
      "pygments_lexer": "ipython3",
      "version": "3.7.4"
    },
    "colab": {
      "name": "svm.ipynb",
      "provenance": [],
      "toc_visible": true
    }
  },
  "cells": [
    {
      "cell_type": "code",
      "metadata": {
        "id": "sK0LtqKONgwd"
      },
      "source": [
        "import pandas as pd\n",
        "import numpy as np\n",
        "import matplotlib.pyplot as plt\n",
        "import seaborn as sns"
      ],
      "execution_count": 26,
      "outputs": []
    },
    {
      "cell_type": "code",
      "metadata": {
        "id": "s4DeMm8tNgwp"
      },
      "source": [
        "combined_data = pd.read_csv('cleaned_data.csv')"
      ],
      "execution_count": 27,
      "outputs": []
    },
    {
      "cell_type": "code",
      "metadata": {
        "colab": {
          "base_uri": "https://localhost:8080/",
          "height": 195
        },
        "id": "7uAfTgYwNgwq",
        "outputId": "6eea6654-01c1-4af0-853a-375634587d03"
      },
      "source": [
        "combined_data.head()"
      ],
      "execution_count": 28,
      "outputs": [
        {
          "output_type": "execute_result",
          "data": {
            "text/html": [
              "<div>\n",
              "<style scoped>\n",
              "    .dataframe tbody tr th:only-of-type {\n",
              "        vertical-align: middle;\n",
              "    }\n",
              "\n",
              "    .dataframe tbody tr th {\n",
              "        vertical-align: top;\n",
              "    }\n",
              "\n",
              "    .dataframe thead th {\n",
              "        text-align: right;\n",
              "    }\n",
              "</style>\n",
              "<table border=\"1\" class=\"dataframe\">\n",
              "  <thead>\n",
              "    <tr style=\"text-align: right;\">\n",
              "      <th></th>\n",
              "      <th>T</th>\n",
              "      <th>TM</th>\n",
              "      <th>Tm</th>\n",
              "      <th>H</th>\n",
              "      <th>PP</th>\n",
              "      <th>VV</th>\n",
              "      <th>V</th>\n",
              "      <th>VM</th>\n",
              "      <th>PM_2_5</th>\n",
              "    </tr>\n",
              "  </thead>\n",
              "  <tbody>\n",
              "    <tr>\n",
              "      <th>0</th>\n",
              "      <td>23.4</td>\n",
              "      <td>30.3</td>\n",
              "      <td>19.0</td>\n",
              "      <td>59.0</td>\n",
              "      <td>0.0</td>\n",
              "      <td>6.3</td>\n",
              "      <td>4.3</td>\n",
              "      <td>5.4</td>\n",
              "      <td>284.795833</td>\n",
              "    </tr>\n",
              "    <tr>\n",
              "      <th>1</th>\n",
              "      <td>22.4</td>\n",
              "      <td>30.3</td>\n",
              "      <td>16.9</td>\n",
              "      <td>57.0</td>\n",
              "      <td>0.0</td>\n",
              "      <td>6.9</td>\n",
              "      <td>3.3</td>\n",
              "      <td>7.6</td>\n",
              "      <td>239.695455</td>\n",
              "    </tr>\n",
              "    <tr>\n",
              "      <th>2</th>\n",
              "      <td>24.0</td>\n",
              "      <td>31.8</td>\n",
              "      <td>16.9</td>\n",
              "      <td>51.0</td>\n",
              "      <td>0.0</td>\n",
              "      <td>6.9</td>\n",
              "      <td>2.8</td>\n",
              "      <td>5.4</td>\n",
              "      <td>182.187500</td>\n",
              "    </tr>\n",
              "    <tr>\n",
              "      <th>3</th>\n",
              "      <td>22.8</td>\n",
              "      <td>30.2</td>\n",
              "      <td>17.6</td>\n",
              "      <td>55.0</td>\n",
              "      <td>0.0</td>\n",
              "      <td>7.7</td>\n",
              "      <td>3.7</td>\n",
              "      <td>7.6</td>\n",
              "      <td>264.064286</td>\n",
              "    </tr>\n",
              "    <tr>\n",
              "      <th>4</th>\n",
              "      <td>23.1</td>\n",
              "      <td>30.6</td>\n",
              "      <td>17.4</td>\n",
              "      <td>46.0</td>\n",
              "      <td>0.0</td>\n",
              "      <td>6.9</td>\n",
              "      <td>3.3</td>\n",
              "      <td>5.4</td>\n",
              "      <td>223.208333</td>\n",
              "    </tr>\n",
              "  </tbody>\n",
              "</table>\n",
              "</div>"
            ],
            "text/plain": [
              "      T    TM    Tm     H   PP   VV    V   VM      PM_2_5\n",
              "0  23.4  30.3  19.0  59.0  0.0  6.3  4.3  5.4  284.795833\n",
              "1  22.4  30.3  16.9  57.0  0.0  6.9  3.3  7.6  239.695455\n",
              "2  24.0  31.8  16.9  51.0  0.0  6.9  2.8  5.4  182.187500\n",
              "3  22.8  30.2  17.6  55.0  0.0  7.7  3.7  7.6  264.064286\n",
              "4  23.1  30.6  17.4  46.0  0.0  6.9  3.3  5.4  223.208333"
            ]
          },
          "metadata": {
            "tags": []
          },
          "execution_count": 28
        }
      ]
    },
    {
      "cell_type": "code",
      "metadata": {
        "id": "12q_DJ9_Ngws"
      },
      "source": [
        "X = combined_data.iloc[:, :-1]\n",
        "y = combined_data.iloc[:, -1]"
      ],
      "execution_count": 29,
      "outputs": []
    },
    {
      "cell_type": "code",
      "metadata": {
        "id": "1p5FPKuINgws"
      },
      "source": [
        "from sklearn.model_selection import train_test_split\n",
        "X_train, X_test, y_train, y_test = train_test_split(X, y, test_size=0.3, random_state=43)"
      ],
      "execution_count": 30,
      "outputs": []
    },
    {
      "cell_type": "markdown",
      "metadata": {
        "id": "mJhRkYwDNgwt"
      },
      "source": [
        "## SVM"
      ]
    },
    {
      "cell_type": "code",
      "metadata": {
        "id": "VPH2wMrINgwt"
      },
      "source": [
        "from sklearn.svm import SVR\n",
        "svm = SVR(C = 2.0, epsilon = 0.1, kernel = 'rbf', gamma = 0.5, \n",
        "           tol = 0.001, verbose=False, shrinking=True, max_iter = 10000)\n",
        "regr=svm.fit(X_train, y_train)"
      ],
      "execution_count": 32,
      "outputs": []
    },
    {
      "cell_type": "code",
      "metadata": {
        "colab": {
          "base_uri": "https://localhost:8080/",
          "height": 35
        },
        "id": "h9uVO5bRNgwu",
        "outputId": "287cc241-93e1-4e88-93be-41eb3ab1875d"
      },
      "source": [
        "f'Coefficient of determination R^2 on train set {regr.score(X_train, y_train)}'\n",
        "# must be close to 1, 1 is perfect fit"
      ],
      "execution_count": 33,
      "outputs": [
        {
          "output_type": "execute_result",
          "data": {
            "application/vnd.google.colaboratory.intrinsic+json": {
              "type": "string"
            },
            "text/plain": [
              "'Coefficient of determination R^2 on train set -0.0839621903336174'"
            ]
          },
          "metadata": {
            "tags": []
          },
          "execution_count": 33
        }
      ]
    },
    {
      "cell_type": "code",
      "metadata": {
        "colab": {
          "base_uri": "https://localhost:8080/",
          "height": 35
        },
        "id": "B6P2mfe4Ngwu",
        "outputId": "1a63affe-3ae3-4d15-8c66-d85f74a05260"
      },
      "source": [
        "f'Coefficient of determination R^2 on test set {regr.score(X_test, y_test)}'"
      ],
      "execution_count": 34,
      "outputs": [
        {
          "output_type": "execute_result",
          "data": {
            "application/vnd.google.colaboratory.intrinsic+json": {
              "type": "string"
            },
            "text/plain": [
              "'Coefficient of determination R^2 on test set -0.24390321086313363'"
            ]
          },
          "metadata": {
            "tags": []
          },
          "execution_count": 34
        }
      ]
    },
    {
      "cell_type": "markdown",
      "metadata": {
        "id": "no5zY5FONgwv"
      },
      "source": [
        "### OVERFIT MODEL"
      ]
    },
    {
      "cell_type": "code",
      "metadata": {
        "id": "kR2qeH4gNgwv"
      },
      "source": [
        "from sklearn.model_selection import cross_val_score\n",
        "score = cross_val_score(regr, X, y, cv = 3)"
      ],
      "execution_count": 35,
      "outputs": []
    },
    {
      "cell_type": "code",
      "metadata": {
        "colab": {
          "base_uri": "https://localhost:8080/"
        },
        "id": "i-FYy-guNgwv",
        "outputId": "4f00575d-9a56-4d78-b01f-d490d4121bae"
      },
      "source": [
        "score.mean()"
      ],
      "execution_count": 36,
      "outputs": [
        {
          "output_type": "execute_result",
          "data": {
            "text/plain": [
              "-0.14820005039846942"
            ]
          },
          "metadata": {
            "tags": []
          },
          "execution_count": 36
        }
      ]
    },
    {
      "cell_type": "code",
      "metadata": {
        "id": "Bfeaaeu2Ngww"
      },
      "source": [
        "pred = regr.predict(X_test)"
      ],
      "execution_count": 37,
      "outputs": []
    },
    {
      "cell_type": "code",
      "metadata": {
        "colab": {
          "base_uri": "https://localhost:8080/",
          "height": 350
        },
        "id": "RG7FxVwCNgww",
        "outputId": "5da03a5a-f9a7-4c59-8bd7-7b8a8f809ca7"
      },
      "source": [
        "sns.distplot(y_test - pred)"
      ],
      "execution_count": 38,
      "outputs": [
        {
          "output_type": "stream",
          "text": [
            "/usr/local/lib/python3.6/dist-packages/seaborn/distributions.py:2557: FutureWarning: `distplot` is a deprecated function and will be removed in a future version. Please adapt your code to use either `displot` (a figure-level function with similar flexibility) or `histplot` (an axes-level function for histograms).\n",
            "  warnings.warn(msg, FutureWarning)\n"
          ],
          "name": "stderr"
        },
        {
          "output_type": "execute_result",
          "data": {
            "text/plain": [
              "<matplotlib.axes._subplots.AxesSubplot at 0x7fc598268cc0>"
            ]
          },
          "metadata": {
            "tags": []
          },
          "execution_count": 38
        },
        {
          "output_type": "display_data",
          "data": {
            "image/png": "[encoded data removed]",
            "text/plain": [
              "<Figure size 432x288 with 1 Axes>"
            ]
          },
          "metadata": {
            "tags": [],
            "needs_background": "light"
          }
        }
      ]
    },
    {
      "cell_type": "markdown",
      "metadata": {
        "id": "834AKt4GNgwx"
      },
      "source": [
        "#### HYPERPARAMETER TUNING"
      ]
    },
    {
      "cell_type": "code",
      "metadata": {
        "id": "o2mS8pBmNgwx"
      },
      "source": [
        "params= {'C': [0.1, 1, 10, 100, 1000],  \n",
        "              'gamma': [1, 0.1, 0.01, 0.001, 0.0001], \n",
        "              'kernel': ['rbf']} "
      ],
      "execution_count": 39,
      "outputs": []
    },
    {
      "cell_type": "code",
      "metadata": {
        "colab": {
          "base_uri": "https://localhost:8080/"
        },
        "id": "nVtVYPj-Ngwx",
        "outputId": "65b74336-48d9-4f34-e013-62b65333d4f4"
      },
      "source": [
        "from sklearn.model_selection import GridSearchCV\n",
        "search = GridSearchCV(svm, params, scoring='neg_mean_squared_error', cv=3,refit = True, verbose = 3)\n",
        "search.fit(X,y)"
      ],
      "execution_count": 41,
      "outputs": [
        {
          "output_type": "stream",
          "text": [
            "Fitting 3 folds for each of 25 candidates, totalling 75 fits\n",
            "[CV] C=0.1, gamma=1, kernel=rbf ......................................\n",
            "[CV] ...... C=0.1, gamma=1, kernel=rbf, score=-7753.020, total=   0.0s\n",
            "[CV] C=0.1, gamma=1, kernel=rbf ......................................\n",
            "[CV] ...... C=0.1, gamma=1, kernel=rbf, score=-9508.313, total=   0.0s\n",
            "[CV] C=0.1, gamma=1, kernel=rbf ......................................\n",
            "[CV] ...... C=0.1, gamma=1, kernel=rbf, score=-6588.204, total=   0.0s\n",
            "[CV] C=0.1, gamma=0.1, kernel=rbf ....................................\n",
            "[CV] .... C=0.1, gamma=0.1, kernel=rbf, score=-7722.224, total=   0.0s\n",
            "[CV] C=0.1, gamma=0.1, kernel=rbf ....................................\n",
            "[CV] .... C=0.1, gamma=0.1, kernel=rbf, score=-9431.070, total=   0.0s\n",
            "[CV] C=0.1, gamma=0.1, kernel=rbf ....................................\n",
            "[CV] .... C=0.1, gamma=0.1, kernel=rbf, score=-6557.709, total=   0.0s\n",
            "[CV] C=0.1, gamma=0.01, kernel=rbf ...................................\n",
            "[CV] ... C=0.1, gamma=0.01, kernel=rbf, score=-7590.658, total=   0.0s\n",
            "[CV] C=0.1, gamma=0.01, kernel=rbf ...................................\n",
            "[CV] ... C=0.1, gamma=0.01, kernel=rbf, score=-9301.021, total=   0.0s\n",
            "[CV] C=0.1, gamma=0.01, kernel=rbf ...................................\n",
            "[CV] ... C=0.1, gamma=0.01, kernel=rbf, score=-6440.180, total=   0.0s\n",
            "[CV] C=0.1, gamma=0.001, kernel=rbf ..................................\n",
            "[CV] .. C=0.1, gamma=0.001, kernel=rbf, score=-7669.336, total=   0.0s\n",
            "[CV] C=0.1, gamma=0.001, kernel=rbf ..................................\n",
            "[CV] .. C=0.1, gamma=0.001, kernel=rbf, score=-9517.333, total=   0.0s\n",
            "[CV] C=0.1, gamma=0.001, kernel=rbf ..................................\n",
            "[CV] .. C=0.1, gamma=0.001, kernel=rbf, score=-6540.696, total=   0.0s\n",
            "[CV] C=0.1, gamma=0.0001, kernel=rbf .................................\n",
            "[CV] . C=0.1, gamma=0.0001, kernel=rbf, score=-7754.529, total=   0.0s\n",
            "[CV] C=0.1, gamma=0.0001, kernel=rbf .................................\n"
          ],
          "name": "stdout"
        },
        {
          "output_type": "stream",
          "text": [
            "[Parallel(n_jobs=1)]: Using backend SequentialBackend with 1 concurrent workers.\n",
            "[Parallel(n_jobs=1)]: Done   1 out of   1 | elapsed:    0.0s remaining:    0.0s\n",
            "[Parallel(n_jobs=1)]: Done   2 out of   2 | elapsed:    0.0s remaining:    0.0s\n"
          ],
          "name": "stderr"
        },
        {
          "output_type": "stream",
          "text": [
            "[CV] . C=0.1, gamma=0.0001, kernel=rbf, score=-9499.241, total=   0.0s\n",
            "[CV] C=0.1, gamma=0.0001, kernel=rbf .................................\n",
            "[CV] . C=0.1, gamma=0.0001, kernel=rbf, score=-6582.230, total=   0.0s\n",
            "[CV] C=1, gamma=1, kernel=rbf ........................................\n",
            "[CV] ........ C=1, gamma=1, kernel=rbf, score=-7751.864, total=   0.0s\n",
            "[CV] C=1, gamma=1, kernel=rbf ........................................\n",
            "[CV] ........ C=1, gamma=1, kernel=rbf, score=-9488.152, total=   0.0s\n",
            "[CV] C=1, gamma=1, kernel=rbf ........................................\n",
            "[CV] ........ C=1, gamma=1, kernel=rbf, score=-6584.462, total=   0.0s\n",
            "[CV] C=1, gamma=0.1, kernel=rbf ......................................\n",
            "[CV] ...... C=1, gamma=0.1, kernel=rbf, score=-7483.022, total=   0.0s\n",
            "[CV] C=1, gamma=0.1, kernel=rbf ......................................\n",
            "[CV] ...... C=1, gamma=0.1, kernel=rbf, score=-9027.031, total=   0.0s\n",
            "[CV] C=1, gamma=0.1, kernel=rbf ......................................\n",
            "[CV] ...... C=1, gamma=0.1, kernel=rbf, score=-6299.637, total=   0.0s\n",
            "[CV] C=1, gamma=0.01, kernel=rbf .....................................\n",
            "[CV] ..... C=1, gamma=0.01, kernel=rbf, score=-6475.638, total=   0.0s\n",
            "[CV] C=1, gamma=0.01, kernel=rbf .....................................\n",
            "[CV] ..... C=1, gamma=0.01, kernel=rbf, score=-7790.950, total=   0.0s\n",
            "[CV] C=1, gamma=0.01, kernel=rbf .....................................\n",
            "[CV] ..... C=1, gamma=0.01, kernel=rbf, score=-5523.398, total=   0.0s\n",
            "[CV] C=1, gamma=0.001, kernel=rbf ....................................\n",
            "[CV] .... C=1, gamma=0.001, kernel=rbf, score=-7087.219, total=   0.0s\n",
            "[CV] C=1, gamma=0.001, kernel=rbf ....................................\n",
            "[CV] .... C=1, gamma=0.001, kernel=rbf, score=-8675.248, total=   0.0s\n",
            "[CV] C=1, gamma=0.001, kernel=rbf ....................................\n",
            "[CV] .... C=1, gamma=0.001, kernel=rbf, score=-6289.301, total=   0.0s\n",
            "[CV] C=1, gamma=0.0001, kernel=rbf ...................................\n",
            "[CV] ... C=1, gamma=0.0001, kernel=rbf, score=-7644.122, total=   0.0s\n",
            "[CV] C=1, gamma=0.0001, kernel=rbf ...................................\n",
            "[CV] ... C=1, gamma=0.0001, kernel=rbf, score=-9595.673, total=   0.0s\n",
            "[CV] C=1, gamma=0.0001, kernel=rbf ...................................\n",
            "[CV] ... C=1, gamma=0.0001, kernel=rbf, score=-6536.157, total=   0.0s\n",
            "[CV] C=10, gamma=1, kernel=rbf .......................................\n",
            "[CV] ....... C=10, gamma=1, kernel=rbf, score=-7647.892, total=   0.0s\n",
            "[CV] C=10, gamma=1, kernel=rbf .......................................\n",
            "[CV] ....... C=10, gamma=1, kernel=rbf, score=-9381.989, total=   0.0s\n",
            "[CV] C=10, gamma=1, kernel=rbf .......................................\n",
            "[CV] ....... C=10, gamma=1, kernel=rbf, score=-6547.576, total=   0.0s\n",
            "[CV] C=10, gamma=0.1, kernel=rbf .....................................\n",
            "[CV] ..... C=10, gamma=0.1, kernel=rbf, score=-5881.475, total=   0.0s\n",
            "[CV] C=10, gamma=0.1, kernel=rbf .....................................\n",
            "[CV] ..... C=10, gamma=0.1, kernel=rbf, score=-6900.646, total=   0.0s\n",
            "[CV] C=10, gamma=0.1, kernel=rbf .....................................\n",
            "[CV] ..... C=10, gamma=0.1, kernel=rbf, score=-4963.497, total=   0.0s\n",
            "[CV] C=10, gamma=0.01, kernel=rbf ....................................\n",
            "[CV] .... C=10, gamma=0.01, kernel=rbf, score=-4610.420, total=   0.0s\n",
            "[CV] C=10, gamma=0.01, kernel=rbf ....................................\n",
            "[CV] .... C=10, gamma=0.01, kernel=rbf, score=-5116.951, total=   0.0s\n",
            "[CV] C=10, gamma=0.01, kernel=rbf ....................................\n",
            "[CV] .... C=10, gamma=0.01, kernel=rbf, score=-4155.580, total=   0.0s\n",
            "[CV] C=10, gamma=0.001, kernel=rbf ...................................\n",
            "[CV] ... C=10, gamma=0.001, kernel=rbf, score=-4949.049, total=   0.0s\n",
            "[CV] C=10, gamma=0.001, kernel=rbf ...................................\n",
            "[CV] ... C=10, gamma=0.001, kernel=rbf, score=-6283.281, total=   0.0s\n",
            "[CV] C=10, gamma=0.001, kernel=rbf ...................................\n",
            "[CV] ... C=10, gamma=0.001, kernel=rbf, score=-5338.547, total=   0.0s\n",
            "[CV] C=10, gamma=0.0001, kernel=rbf ..................................\n",
            "[CV] .. C=10, gamma=0.0001, kernel=rbf, score=-7058.109, total=   0.0s\n",
            "[CV] C=10, gamma=0.0001, kernel=rbf ..................................\n",
            "[CV] .. C=10, gamma=0.0001, kernel=rbf, score=-8667.328, total=   0.0s\n",
            "[CV] C=10, gamma=0.0001, kernel=rbf ..................................\n",
            "[CV] .. C=10, gamma=0.0001, kernel=rbf, score=-6223.444, total=   0.0s\n",
            "[CV] C=100, gamma=1, kernel=rbf ......................................\n",
            "[CV] ...... C=100, gamma=1, kernel=rbf, score=-6798.838, total=   0.0s\n",
            "[CV] C=100, gamma=1, kernel=rbf ......................................\n",
            "[CV] ...... C=100, gamma=1, kernel=rbf, score=-7692.045, total=   0.0s\n",
            "[CV] C=100, gamma=1, kernel=rbf ......................................\n",
            "[CV] ...... C=100, gamma=1, kernel=rbf, score=-6386.429, total=   0.0s\n",
            "[CV] C=100, gamma=0.1, kernel=rbf ....................................\n",
            "[CV] .... C=100, gamma=0.1, kernel=rbf, score=-5376.210, total=   0.0s\n",
            "[CV] C=100, gamma=0.1, kernel=rbf ....................................\n",
            "[CV] .... C=100, gamma=0.1, kernel=rbf, score=-5777.247, total=   0.0s\n",
            "[CV] C=100, gamma=0.1, kernel=rbf ....................................\n",
            "[CV] .... C=100, gamma=0.1, kernel=rbf, score=-4669.069, total=   0.0s\n",
            "[CV] C=100, gamma=0.01, kernel=rbf ...................................\n",
            "[CV] ... C=100, gamma=0.01, kernel=rbf, score=-4345.242, total=   0.0s\n",
            "[CV] C=100, gamma=0.01, kernel=rbf ...................................\n",
            "[CV] ... C=100, gamma=0.01, kernel=rbf, score=-4648.963, total=   0.0s\n",
            "[CV] C=100, gamma=0.01, kernel=rbf ...................................\n",
            "[CV] ... C=100, gamma=0.01, kernel=rbf, score=-3903.956, total=   0.0s\n",
            "[CV] C=100, gamma=0.001, kernel=rbf ..................................\n",
            "[CV] .. C=100, gamma=0.001, kernel=rbf, score=-4188.597, total=   0.0s\n",
            "[CV] C=100, gamma=0.001, kernel=rbf ..................................\n",
            "[CV] .. C=100, gamma=0.001, kernel=rbf, score=-4939.964, total=   0.0s\n",
            "[CV] C=100, gamma=0.001, kernel=rbf ..................................\n",
            "[CV] .. C=100, gamma=0.001, kernel=rbf, score=-4179.983, total=   0.0s\n",
            "[CV] C=100, gamma=0.0001, kernel=rbf .................................\n",
            "[CV] . C=100, gamma=0.0001, kernel=rbf, score=-4973.083, total=   0.0s\n",
            "[CV] C=100, gamma=0.0001, kernel=rbf .................................\n",
            "[CV] . C=100, gamma=0.0001, kernel=rbf, score=-6506.673, total=   0.0s\n",
            "[CV] C=100, gamma=0.0001, kernel=rbf .................................\n",
            "[CV] . C=100, gamma=0.0001, kernel=rbf, score=-5011.327, total=   0.0s\n",
            "[CV] C=1000, gamma=1, kernel=rbf .....................................\n",
            "[CV] ..... C=1000, gamma=1, kernel=rbf, score=-6731.632, total=   0.0s\n",
            "[CV] C=1000, gamma=1, kernel=rbf .....................................\n",
            "[CV] ..... C=1000, gamma=1, kernel=rbf, score=-7147.665, total=   0.0s\n",
            "[CV] C=1000, gamma=1, kernel=rbf .....................................\n",
            "[CV] ..... C=1000, gamma=1, kernel=rbf, score=-6686.052, total=   0.0s\n",
            "[CV] C=1000, gamma=0.1, kernel=rbf ...................................\n",
            "[CV] ... C=1000, gamma=0.1, kernel=rbf, score=-5915.596, total=   0.1s\n",
            "[CV] C=1000, gamma=0.1, kernel=rbf ...................................\n",
            "[CV] ... C=1000, gamma=0.1, kernel=rbf, score=-6063.268, total=   0.0s\n",
            "[CV] C=1000, gamma=0.1, kernel=rbf ...................................\n",
            "[CV] ... C=1000, gamma=0.1, kernel=rbf, score=-6091.154, total=   0.1s\n",
            "[CV] C=1000, gamma=0.01, kernel=rbf ..................................\n",
            "[CV] .. C=1000, gamma=0.01, kernel=rbf, score=-4947.799, total=   0.1s\n",
            "[CV] C=1000, gamma=0.01, kernel=rbf ..................................\n",
            "[CV] .. C=1000, gamma=0.01, kernel=rbf, score=-5606.322, total=   0.1s\n",
            "[CV] C=1000, gamma=0.01, kernel=rbf ..................................\n",
            "[CV] .. C=1000, gamma=0.01, kernel=rbf, score=-5178.999, total=   0.0s\n",
            "[CV] C=1000, gamma=0.001, kernel=rbf .................................\n",
            "[CV] . C=1000, gamma=0.001, kernel=rbf, score=-4098.168, total=   0.0s\n",
            "[CV] C=1000, gamma=0.001, kernel=rbf .................................\n",
            "[CV] . C=1000, gamma=0.001, kernel=rbf, score=-4832.274, total=   0.0s\n",
            "[CV] C=1000, gamma=0.001, kernel=rbf .................................\n",
            "[CV] . C=1000, gamma=0.001, kernel=rbf, score=-3594.221, total=   0.0s\n",
            "[CV] C=1000, gamma=0.0001, kernel=rbf ................................\n",
            "[CV]  C=1000, gamma=0.0001, kernel=rbf, score=-4258.795, total=   0.0s\n",
            "[CV] C=1000, gamma=0.0001, kernel=rbf ................................\n",
            "[CV]  C=1000, gamma=0.0001, kernel=rbf, score=-5457.082, total=   0.0s\n",
            "[CV] C=1000, gamma=0.0001, kernel=rbf ................................\n",
            "[CV]  C=1000, gamma=0.0001, kernel=rbf, score=-4560.117, total=   0.0s\n"
          ],
          "name": "stdout"
        },
        {
          "output_type": "stream",
          "text": [
            "[Parallel(n_jobs=1)]: Done  75 out of  75 | elapsed:    1.6s finished\n"
          ],
          "name": "stderr"
        },
        {
          "output_type": "execute_result",
          "data": {
            "text/plain": [
              "GridSearchCV(cv=3, error_score=nan,\n",
              "             estimator=SVR(C=2.0, cache_size=200, coef0=0.0, degree=3,\n",
              "                           epsilon=0.1, gamma=0.5, kernel='rbf', max_iter=10000,\n",
              "                           shrinking=True, tol=0.001, verbose=False),\n",
              "             iid='deprecated', n_jobs=None,\n",
              "             param_grid={'C': [0.1, 1, 10, 100, 1000],\n",
              "                         'gamma': [1, 0.1, 0.01, 0.001, 0.0001],\n",
              "                         'kernel': ['rbf']},\n",
              "             pre_dispatch='2*n_jobs', refit=True, return_train_score=False,\n",
              "             scoring='neg_mean_squared_error', verbose=3)"
            ]
          },
          "metadata": {
            "tags": []
          },
          "execution_count": 41
        }
      ]
    },
    {
      "cell_type": "code",
      "metadata": {
        "colab": {
          "base_uri": "https://localhost:8080/"
        },
        "id": "8J5xnYGKNgwy",
        "outputId": "1933f225-964a-4b25-a839-8f722d8c5b5d"
      },
      "source": [
        "search.best_params_"
      ],
      "execution_count": 42,
      "outputs": [
        {
          "output_type": "execute_result",
          "data": {
            "text/plain": [
              "{'C': 1000, 'gamma': 0.001, 'kernel': 'rbf'}"
            ]
          },
          "metadata": {
            "tags": []
          },
          "execution_count": 42
        }
      ]
    },
    {
      "cell_type": "code",
      "metadata": {
        "colab": {
          "base_uri": "https://localhost:8080/"
        },
        "id": "gyaBT4ejNgwy",
        "outputId": "9ddffb2a-e473-4d46-b03b-c63d7e7193d5"
      },
      "source": [
        "search.best_score_"
      ],
      "execution_count": 43,
      "outputs": [
        {
          "output_type": "execute_result",
          "data": {
            "text/plain": [
              "-4174.887447796999"
            ]
          },
          "metadata": {
            "tags": []
          },
          "execution_count": 43
        }
      ]
    },
    {
      "cell_type": "code",
      "metadata": {
        "colab": {
          "base_uri": "https://localhost:8080/",
          "height": 350
        },
        "id": "5zazg-CoNgwz",
        "outputId": "dac1bfe0-a3bf-4bab-bebc-1400b4324374"
      },
      "source": [
        "pred = search.predict(X_test)\n",
        "sns.distplot(y_test-pred)"
      ],
      "execution_count": 44,
      "outputs": [
        {
          "output_type": "stream",
          "text": [
            "/usr/local/lib/python3.6/dist-packages/seaborn/distributions.py:2557: FutureWarning: `distplot` is a deprecated function and will be removed in a future version. Please adapt your code to use either `displot` (a figure-level function with similar flexibility) or `histplot` (an axes-level function for histograms).\n",
            "  warnings.warn(msg, FutureWarning)\n"
          ],
          "name": "stderr"
        },
        {
          "output_type": "execute_result",
          "data": {
            "text/plain": [
              "<matplotlib.axes._subplots.AxesSubplot at 0x7fc5980ff860>"
            ]
          },
          "metadata": {
            "tags": []
          },
          "execution_count": 44
        },
        {
          "output_type": "display_data",
          "data": {
            "image/png": "[encoded data removed]",
            "text/plain": [
              "<Figure size 432x288 with 1 Axes>"
            ]
          },
          "metadata": {
            "tags": [],
            "needs_background": "light"
          }
        }
      ]
    },
    {
      "cell_type": "code",
      "metadata": {
        "colab": {
          "base_uri": "https://localhost:8080/"
        },
        "id": "VSWeTQzcNgwz",
        "outputId": "79692581-0fd8-4e31-8a00-797c6826546e"
      },
      "source": [
        "from sklearn import metrics\n",
        "print(f\"Mean Abs Error: {metrics.mean_absolute_error(y_test, pred)}\")\n",
        "print(f\"Mean Sq Error: {metrics.mean_squared_error(y_test, pred)}\")\n",
        "print(f\"Root Mean Error: {np.sqrt(metrics.mean_squared_error(y_test, pred))}\")"
      ],
      "execution_count": 45,
      "outputs": [
        {
          "output_type": "stream",
          "text": [
            "Mean Abs Error: 44.5348280173599\n",
            "Mean Sq Error: 4449.93360462266\n",
            "Root Mean Error: 66.70782266438218\n"
          ],
          "name": "stdout"
        }
      ]
    },
    {
      "cell_type": "code",
      "metadata": {
        "colab": {
          "base_uri": "https://localhost:8080/"
        },
        "id": "uKVeapLzNgw0",
        "outputId": "3285ade2-c0e5-41e5-bf09-6fb8b0694b4e"
      },
      "source": [
        "search.best_estimator_"
      ],
      "execution_count": 46,
      "outputs": [
        {
          "output_type": "execute_result",
          "data": {
            "text/plain": [
              "SVR(C=1000, cache_size=200, coef0=0.0, degree=3, epsilon=0.1, gamma=0.001,\n",
              "    kernel='rbf', max_iter=10000, shrinking=True, tol=0.001, verbose=False)"
            ]
          },
          "metadata": {
            "tags": []
          },
          "execution_count": 46
        }
      ]
    },
    {
      "cell_type": "code",
      "metadata": {
        "id": "UCU3muqvNgw0"
      },
      "source": [
        "import pickle\n",
        "pickle.dump(search, open('svm.pkl', 'wb'))"
      ],
      "execution_count": 47,
      "outputs": []
    },
    {
      "cell_type": "code",
      "metadata": {
        "id": "RZl-34r_Ngw0"
      },
      "source": [
        ""
      ],
      "execution_count": 20,
      "outputs": []
    }
  ]
}